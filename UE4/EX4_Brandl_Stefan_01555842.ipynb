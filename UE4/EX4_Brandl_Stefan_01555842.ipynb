{
 "cells": [
  {
   "cell_type": "markdown",
   "metadata": {},
   "source": [
    "<h1 style=\"color:rgb(0,120,170)\">Assignment 4: Logistic Regression</h1>\n",
    "<h2 style=\"color:rgb(0,120,170)\">Machine Learning: Theoretical Concepts, SS 2019</h2>\n",
    "\n",
    "<h3 style=\"color:rgb(0,120,170)\">Deadline: see Moodle</h3>\n",
    "Return this notebook with your code and answers."
   ]
  },
  {
   "cell_type": "code",
   "execution_count": 1,
   "metadata": {
    "ExecuteTime": {
     "end_time": "2019-05-03T16:19:55.515121Z",
     "start_time": "2019-05-03T16:19:54.451965Z"
    }
   },
   "outputs": [],
   "source": [
    "from typing import Callable, Tuple\n",
    "\n",
    "import matplotlib\n",
    "import matplotlib.pyplot as plt\n",
    "import numpy as np\n",
    "from sklearn.metrics import roc_curve, auc\n",
    "from sklearn.model_selection import train_test_split"
   ]
  },
  {
   "cell_type": "markdown",
   "metadata": {},
   "source": [
    "# Exercise 4\n",
    "\n",
    "<h3 style=\"color:rgb(0,120,170)\"> Question 4.1 </h3>\n",
    "\n",
    "The coefficients $\\mathbf{w}$ of the Logistic Regression problem are usually estimated using the maximum likelihood method.\n",
    "This leads to the optimization problem \n",
    "\\begin{align*}\n",
    "\\min_{\\mathbf{w}} L &= \\min_{\\mathbf{w}} \\left(- \\sum_i y_i \\log \\sigma(\\mathbf{w}^T\\mathbf{x}_i) + (1-y_i) \\log (1-\\sigma(\\mathbf{w}^T \\mathbf{x}_i)) \\right)\\\\\n",
    "\\text{with} \\quad \\sigma(x) &= \\frac{1}{1+\\mathrm{e}^{-x}} \n",
    "\\end{align*}\n",
    "where $L = -\\ln \\mathcal{L}$ is the negative log-likelihood. Since there is no closed-form solution for $\\mathbf{w}$, an iterative method $-$ such as gradient descent $-$ must be applied in order to find $\\mathbf{w}$.  \n",
    "Calculate the gradient $\\frac{\\partial L}{\\partial \\mathbf{w}}$, which is needed to apply gradient descent.\n",
    "Hint: $\\frac{\\partial \\sigma(x)}{\\partial x} = \\sigma(x) \\cdot (1 - \\sigma(x))$.\n",
    "\n",
    "* <span style=\"color:rgb(0,120,170)\">**TODO:** Markdown, Latex</span>"
   ]
  },
  {
   "cell_type": "markdown",
   "metadata": {},
   "source": [
    "<h3 style=\"color:rgb(208,90,80)\">Answer 4.1:</h3>\n",
    "\n",
    "\\begin{align*}\n",
    "\\frac{\\partial L}{\\partial \\mathbf{w}} \\big( - \\sum_i^n y_i \\log \\sigma (\\mathbf{w}^T \\mathbf{x}_i) +  (1 - y_i) \\log ( 1 - \\sigma(\\mathbf{w}^T \\mathbf{x}_i))\\big) &= \\\\\n",
    "- \\sum_i^n \\frac{y_i \\sigma (\\mathbf{w}^T \\mathbf{x}_i)'}{\\sigma (\\mathbf{w}^T \\mathbf{x}_i)} + \\frac{(1 - y_i) (1 - \\sigma(\\mathbf{w}^T \\mathbf{x}_i))'}{1 - \\sigma(\\mathbf{w}^T \\mathbf{x}_i)} &= \\\\\n",
    "- \\sum_i^n \\frac{y_i (\\mathbf{w}^T \\mathbf{x}_i)' \\sigma(\\mathbf{w}^T \\mathbf{x}_i)(1 - \\sigma(\\mathbf{w}^T \\mathbf{x}_i))}{\\sigma (\\mathbf{w}^T \\mathbf{x}_i)} + \\frac{-(1 - y_i) (\\mathbf{w}^T \\mathbf{x}_i)'\\sigma(\\mathbf{w}^T \\mathbf{x}_i)(1 - \\sigma(\\mathbf{w}^T \\mathbf{x}_i))}{1 - \\sigma(\\mathbf{w}^T \\mathbf{x}_i)} &= \\\\\n",
    "- \\sum_i^n y_i (\\mathbf{w}^T \\mathbf{x}_i)' (1 - \\sigma(\\mathbf{w}^T \\mathbf{x}_i)) ~ - ~ (1 - y_i) (\\mathbf{w}^T \\mathbf{x}_i)'\\sigma(\\mathbf{w}^T \\mathbf{x}_i) &= \\\\\n",
    "- \\sum_i^n y_i \\mathbf{x}_i (1 - \\sigma(\\mathbf{w}^T \\mathbf{x}_i)) ~ - ~ (1 - y_i) \\mathbf{x}_i \\sigma(\\mathbf{w}^T \\mathbf{x}_i) &= \\\\\n",
    "- \\sum_i^n \\mathbf{x}_i \\big( y_i (1 - \\sigma(\\mathbf{w}^T \\mathbf{x}_i)) ~ - ~ (1 - y_i) \\sigma(\\mathbf{w}^T \\mathbf{x}_i) \\big) &= \\\\\n",
    "- \\sum_i^n \\mathbf{x}_i \\big( y_i - \\sigma(\\mathbf{w}^T \\mathbf{x}_i) \\big)\n",
    "\\end{align*}\n"
   ]
  },
  {
   "cell_type": "markdown",
   "metadata": {},
   "source": [
    "<h3 style=\"color:rgb(0,120,170)\"> Question 4.2 </h3>\n",
    "\n",
    "Implement the formula for the gradient you found in Exercise 4.1. This means: implement a function \n",
    "`logistic_gradient(w, x, y)` that takes a parameter vector\n",
    "$\\mathbf{w}$, a data matrix $\\mathbf{X}$ and a label vector\n",
    "$\\mathbf{y}$ and returns the gradient $\\frac{\\partial L}{\\partial\n",
    "\\mathbf{w}}$.\n",
    "\n",
    "Test this function by implementing Gradient Checking. To do this, implement\n",
    "a function `numerical_gradient(w, x, y)` that takes the same parameters\n",
    "as `logistic_gradient`, but calculates the gradient numerically via the central difference quotient.\n",
    "\n",
    "Generate a random data matrix as well as random labels and a random weight\n",
    "vector and use them as input of both functions. Compare the outputs.\n",
    "\n",
    "* <span style=\"color:rgb(0,120,170)\">**TODO:** Markdown / Latex</span>"
   ]
  },
  {
   "cell_type": "markdown",
   "metadata": {},
   "source": [
    "<h3 style=\"color:rgb(208,90,80)\">Answer 4.2:</h3>\n",
    "\n"
   ]
  },
  {
   "cell_type": "code",
   "execution_count": 2,
   "metadata": {
    "ExecuteTime": {
     "end_time": "2019-05-03T16:19:55.530081Z",
     "start_time": "2019-05-03T16:19:55.518113Z"
    }
   },
   "outputs": [],
   "source": [
    "def sigmoid(x: np.ndarray) -> np.ndarray:\n",
    "    return 1 / (1 + np.exp(-x))\n",
    "\n",
    "\n",
    "def likelihood(w: np.ndarray, X: np.ndarray, y: np.ndarray) -> float:\n",
    "    l = 0\n",
    "    for i in range(X.shape[0]):\n",
    "        s = sigmoid(w.T @ X[i, :])\n",
    "        l += y[i] * np.log(s) + (1 - y[i]) * np.log(1 - s)\n",
    "    return -l\n",
    "\n",
    "\n",
    "def logistic_gradient(w: np.ndarray, X: np.ndarray, y: np.ndarray) -> np.ndarray:\n",
    "    return - (X.T @ (y - sigmoid(X @ w)))\n",
    "    \n",
    "\n",
    "def numerical_gradient(w: np.ndarray, X: np.ndarray, y: np.ndarray, e: float = 1e-4) -> np.ndarray:\n",
    "    E = np.eye(len(w))\n",
    "    w_new = np.zeros_like(w)\n",
    "    for i in range(len(w)):\n",
    "        w_new[i] = (likelihood(w + e * E[i], X, y) - likelihood(w - e * E[i], X, y)) / (2 * e)\n",
    "    return w_new"
   ]
  },
  {
   "cell_type": "code",
   "execution_count": 3,
   "metadata": {
    "ExecuteTime": {
     "end_time": "2019-05-03T16:19:55.572006Z",
     "start_time": "2019-05-03T16:19:55.533590Z"
    }
   },
   "outputs": [
    {
     "name": "stdout",
     "output_type": "stream",
     "text": [
      "logistic  gradient: [31.82803752 53.15022931 29.13594639]\n",
      "numerical gradient: [31.82803738 53.15022913 29.1359463 ]\n",
      "All values closer than 1e-05? True\n"
     ]
    }
   ],
   "source": [
    "def gen_w_X_y(size: int, n_dimensions: int) -> Tuple[np.ndarray, np.ndarray, np.ndarray]:\n",
    "    w = np.random.rand(n_dimensions)\n",
    "    X = np.random.randint(-4, 4, (size, n_dimensions))\n",
    "    y = np.random.randint(0, 2, size)\n",
    "    return w, X, y\n",
    "    \n",
    "\n",
    "def print_gradient(name: str, gradient: Callable[[np.ndarray, np.ndarray, np.ndarray], np.ndarray],\n",
    "                   w: np.ndarray, X: np.ndarray, y: np.ndarray) -> np.ndarray:\n",
    "    g = gradient(w, X, y)\n",
    "    print(f'{name:9s} gradient: {g}')\n",
    "    return g\n",
    "\n",
    "\n",
    "w, X, y = gen_w_X_y(100, 3)\n",
    "g1 = print_gradient('logistic', logistic_gradient, w, X, y)\n",
    "g2 = print_gradient('numerical', numerical_gradient, w, X, y)\n",
    "\n",
    "tol = 1e-5\n",
    "print(f'All values closer than {tol}? {np.allclose(g1, g2, atol=tol)}')"
   ]
  },
  {
   "cell_type": "markdown",
   "metadata": {},
   "source": [
    "<h3 style=\"color:rgb(0,120,170)\"> Question 4.3 </h3>\n",
    "\n",
    "Consider the data sets `DataSet4a.csv` and `DataSet4b.csv`. \n",
    "Split each of these data sets into training set and test set ($50\\,\\%$ each).\n",
    "Then use Logistic Regression with Gradient Descent to compute classifiers on the training set and\n",
    "apply them to the test samples. Use randomly initialized weights, a learning rate of $10^{-4}$, and think of a good stopping criterion.\n",
    "\n",
    "Predict class `1` if the Logistic Regression returns $\\geq 0.5$ and `0` otherwise. \n",
    "Calculate Accuracy and Balanced Accuracy on the test samples.\n",
    "\n",
    "Further provide ROC (receiver operating characteristic) curves of the classifiers on the test samples and compute the AUC (area under curve) value of these curves. Therefore the functions `roc_curve` and `auc` from `sklearn.metrics` might be useful.\n",
    "\n",
    "\n",
    "* <span style=\"color:rgb(0,120,170)\">**TODO:** Markdown / Latex</span>"
   ]
  },
  {
   "cell_type": "markdown",
   "metadata": {},
   "source": [
    "<h3 style=\"color:rgb(208,90,80)\">Answer 4.3:</h3>\n"
   ]
  },
  {
   "cell_type": "code",
   "execution_count": 4,
   "metadata": {
    "ExecuteTime": {
     "end_time": "2019-05-03T16:19:55.588962Z",
     "start_time": "2019-05-03T16:19:55.574998Z"
    }
   },
   "outputs": [
    {
     "name": "stdout",
     "output_type": "stream",
     "text": [
      "(120, 2) (350, 2)\n"
     ]
    }
   ],
   "source": [
    "A = np.genfromtxt('DataSet4a.csv', delimiter=',', skip_header=1)\n",
    "B = np.genfromtxt('DataSet4b.csv', delimiter=',', skip_header=1)\n",
    "\n",
    "# Converting class -1 to 0\n",
    "X_a, y_a = A[:, :-1], (A[:, -1] > 0).astype(int)\n",
    "X_b, y_b = B[:, :-1], (B[:, -1] > 0).astype(int)\n",
    "\n",
    "print(X_a.shape, X_b.shape)\n",
    "\n",
    "X_a_train, X_a_test, y_a_train, y_a_test = train_test_split(X_a, y_a, test_size=.5)\n",
    "X_b_train, X_b_test, y_b_train, y_b_test = train_test_split(X_b, y_b, test_size=.5)"
   ]
  },
  {
   "cell_type": "code",
   "execution_count": 5,
   "metadata": {
    "ExecuteTime": {
     "end_time": "2019-05-03T16:20:16.786892Z",
     "start_time": "2019-05-03T16:19:55.610904Z"
    }
   },
   "outputs": [
    {
     "name": "stdout",
     "output_type": "stream",
     "text": [
      "Convergence reached in iteration 7843\n",
      "Convergence reached in iteration 6586\n"
     ]
    }
   ],
   "source": [
    "def logistic_regression(w: np.ndarray, X: np.ndarray, y: np.ndarray, \n",
    "                        learning_rate: float = 1e-4, max_iter: int = int(1e4)) -> np.ndarray:\n",
    "    w_curr = w.copy()\n",
    "    for i in range(max_iter):\n",
    "        w_prev = w_curr\n",
    "        w_curr = w_prev - learning_rate * logistic_gradient(w_prev, X, y)\n",
    "        if np.allclose(w_curr, w_prev, rtol=1e-4):\n",
    "            print(f'Convergence reached in iteration {i}')\n",
    "            return w_curr\n",
    "    else:\n",
    "        print(f'Regression did not converge after {max_iter} iterations')\n",
    "        return w_curr\n",
    "    \n",
    "w_a = logistic_regression(np.random.rand(X_a.shape[1]), X_a_train, y_a_train)\n",
    "w_b = logistic_regression(np.random.rand(X_b.shape[1]), X_b_train, y_b_train)"
   ]
  },
  {
   "cell_type": "code",
   "execution_count": 6,
   "metadata": {
    "ExecuteTime": {
     "end_time": "2019-05-03T16:20:16.810343Z",
     "start_time": "2019-05-03T16:20:16.789887Z"
    }
   },
   "outputs": [
    {
     "name": "stdout",
     "output_type": "stream",
     "text": [
      "Actual    : [0 1 0 0 0 1 1 0 0 0 1 1 0 0 0 1 0 0 0 1 0 1 0 0 0 1 0 1 0 1 0 0 0 0 0 1 1\n",
      " 1 0 1 0 1 1 1 1 1 1 0 1 1 0 1 1 0 0 1 0 0 1 0]\n",
      "Prediction: [0. 1. 1. 1. 0. 1. 0. 0. 0. 1. 1. 1. 0. 0. 1. 1. 1. 0. 0. 1. 0. 1. 0. 1.\n",
      " 1. 1. 0. 1. 1. 1. 0. 1. 0. 0. 0. 1. 1. 1. 1. 1. 0. 1. 1. 0. 1. 1. 1. 0.\n",
      " 1. 1. 0. 1. 0. 0. 0. 1. 0. 0. 1. 0.]\n",
      "Accuracy          of dataset a: 0.7833333333333333\n",
      "\n",
      "Actual    : [0 1 0 0 0 1 1 0 0 0 1 1 0 0 0 1 0 0 0 1 0 1 0 0 0 1 0 1 0 1 0 0 0 0 0 1 1\n",
      " 1 0 1 0 1 1 1 1 1 1 0 1 1 0 1 1 0 0 1 0 0 1 0]\n",
      "Prediction: [0. 1. 1. 1. 0. 1. 0. 0. 0. 1. 1. 1. 0. 0. 1. 1. 1. 0. 0. 1. 0. 1. 0. 1.\n",
      " 1. 1. 0. 1. 1. 1. 0. 1. 0. 0. 0. 1. 1. 1. 1. 1. 0. 1. 1. 0. 1. 1. 1. 0.\n",
      " 1. 1. 0. 1. 0. 0. 0. 1. 0. 0. 1. 0.]\n",
      "Balanced Accuracy of dataset a: 0.7929292929292929\n",
      "\n",
      "Actual    : [0 1 0 1 0 0 0 1 0 0 0 0 1 0 0 0 0 0 0 0 0 0 1 0 0 0 0 1 1 0 0 1 1 0 0 1 0\n",
      " 0 1 1 0 0 0 0 0 0 0 0 0 0 0 0 0 0 0 0 1 0 1 0 0 1 1 0 0 0 1 0 1 0 0 1 0 0\n",
      " 0 0 1 1 0 0 0 0 0 0 1 0 0 1 0 0 0 1 0 0 1 1 0 0 0 0 0 1 0 0 1 0 0 1 0 0 0\n",
      " 0 1 1 1 0 0 0 1 1 1 0 0 0 0 0 0 1 0 1 0 0 1 1 1 0 0 0 1 0 1 0 0 1 0 0 0 0\n",
      " 0 0 0 1 0 0 0 0 0 0 0 0 1 0 1 0 0 0 0 0 0 0 0 0 0 1 1]\n",
      "Prediction: [0. 0. 0. 0. 0. 0. 0. 0. 0. 0. 0. 0. 0. 0. 0. 0. 0. 0. 0. 0. 0. 0. 0. 0.\n",
      " 0. 0. 0. 0. 0. 0. 0. 1. 0. 0. 0. 0. 0. 0. 0. 0. 0. 0. 0. 0. 0. 0. 0. 0.\n",
      " 0. 0. 0. 0. 0. 0. 0. 0. 1. 0. 0. 0. 0. 0. 0. 0. 0. 0. 0. 1. 1. 0. 0. 0.\n",
      " 0. 0. 0. 0. 0. 0. 0. 0. 0. 0. 0. 0. 0. 0. 0. 1. 0. 0. 0. 0. 0. 0. 0. 0.\n",
      " 0. 0. 0. 0. 0. 0. 0. 0. 0. 0. 0. 0. 0. 0. 0. 0. 0. 0. 0. 0. 0. 0. 0. 1.\n",
      " 0. 0. 0. 0. 0. 0. 0. 0. 0. 1. 0. 0. 0. 0. 0. 0. 0. 0. 1. 0. 0. 0. 0. 0.\n",
      " 0. 0. 0. 0. 0. 0. 0. 0. 0. 0. 0. 0. 0. 0. 0. 0. 1. 0. 0. 0. 0. 0. 0. 0.\n",
      " 0. 0. 0. 0. 0. 0. 0.]\n",
      "Accuracy          of dataset b: 0.7657142857142857\n",
      "\n",
      "Actual    : [0 1 0 1 0 0 0 1 0 0 0 0 1 0 0 0 0 0 0 0 0 0 1 0 0 0 0 1 1 0 0 1 1 0 0 1 0\n",
      " 0 1 1 0 0 0 0 0 0 0 0 0 0 0 0 0 0 0 0 1 0 1 0 0 1 1 0 0 0 1 0 1 0 0 1 0 0\n",
      " 0 0 1 1 0 0 0 0 0 0 1 0 0 1 0 0 0 1 0 0 1 1 0 0 0 0 0 1 0 0 1 0 0 1 0 0 0\n",
      " 0 1 1 1 0 0 0 1 1 1 0 0 0 0 0 0 1 0 1 0 0 1 1 1 0 0 0 1 0 1 0 0 1 0 0 0 0\n",
      " 0 0 0 1 0 0 0 0 0 0 0 0 1 0 1 0 0 0 0 0 0 0 0 0 0 1 1]\n",
      "Prediction: [0. 0. 0. 0. 0. 0. 0. 0. 0. 0. 0. 0. 0. 0. 0. 0. 0. 0. 0. 0. 0. 0. 0. 0.\n",
      " 0. 0. 0. 0. 0. 0. 0. 1. 0. 0. 0. 0. 0. 0. 0. 0. 0. 0. 0. 0. 0. 0. 0. 0.\n",
      " 0. 0. 0. 0. 0. 0. 0. 0. 1. 0. 0. 0. 0. 0. 0. 0. 0. 0. 0. 1. 1. 0. 0. 0.\n",
      " 0. 0. 0. 0. 0. 0. 0. 0. 0. 0. 0. 0. 0. 0. 0. 1. 0. 0. 0. 0. 0. 0. 0. 0.\n",
      " 0. 0. 0. 0. 0. 0. 0. 0. 0. 0. 0. 0. 0. 0. 0. 0. 0. 0. 0. 0. 0. 0. 0. 1.\n",
      " 0. 0. 0. 0. 0. 0. 0. 0. 0. 1. 0. 0. 0. 0. 0. 0. 0. 0. 1. 0. 0. 0. 0. 0.\n",
      " 0. 0. 0. 0. 0. 0. 0. 0. 0. 0. 0. 0. 0. 0. 0. 0. 1. 0. 0. 0. 0. 0. 0. 0.\n",
      " 0. 0. 0. 0. 0. 0. 0.]\n",
      "Balanced Accuracy of dataset b: 0.5793963254593176\n",
      "\n"
     ]
    }
   ],
   "source": [
    "def classify(X: np.ndarray, w: np.ndarray) -> np.ndarray:\n",
    "    r = X @ w\n",
    "    return np.asarray([r >= 0.5, r]).T.astype(float)\n",
    "\n",
    "\n",
    "def accuracy(pred: np.ndarray, test: np.ndarray) -> float:\n",
    "    return np.sum(pred == test) / len(pred)\n",
    "\n",
    "\n",
    "def balanced_accuracy(pred: np.ndarray, test: np.ndarray) -> float:\n",
    "    positive = np.sum((pred == 1) & (test == 1))\n",
    "    negative = np.sum((pred == 0) & (test == 0))\n",
    "    return (positive / test.sum() + negative / (len(test) - test.sum())) / 2\n",
    "\n",
    "\n",
    "def print_accuracy(name: str, dataset: str, fun: Callable[[np.ndarray, np.ndarray], float],\n",
    "                   pred: np.ndarray, test: np.ndarray):\n",
    "    print(f'Actual    : {test}')\n",
    "    print(f'Prediction: {pred}')\n",
    "    print(f'{name:17s} of dataset {dataset}: {fun(pred, test)}', end='\\n\\n')\n",
    "\n",
    "\n",
    "pred_a = classify(X_a_test, w_a)\n",
    "pred_b = classify(X_b_test, w_b)\n",
    "\n",
    "print_accuracy('Accuracy', 'a', accuracy, pred_a[:, 0], y_a_test)\n",
    "print_accuracy('Balanced Accuracy', 'a', balanced_accuracy, pred_a[:, 0], y_a_test)\n",
    "print_accuracy('Accuracy', 'b', accuracy, pred_b[:, 0], y_b_test)\n",
    "print_accuracy('Balanced Accuracy', 'b', balanced_accuracy, pred_b[:, 0], y_b_test)"
   ]
  },
  {
   "cell_type": "code",
   "execution_count": 7,
   "metadata": {
    "ExecuteTime": {
     "end_time": "2019-05-03T16:20:17.081135Z",
     "start_time": "2019-05-03T16:20:16.813848Z"
    }
   },
   "outputs": [
    {
     "data": {
      "image/png": "[encoded data removed]",
      "text/plain": [
       "<Figure size 648x648 with 1 Axes>"
      ]
     },
     "metadata": {
      "needs_background": "light"
     },
     "output_type": "display_data"
    }
   ],
   "source": [
    "fpr_a, tpr_a, _ = roc_curve(y_a_test, pred_a[:, 1])\n",
    "fpr_b, tpr_b, _ = roc_curve(y_b_test, pred_b[:, 1])\n",
    "\n",
    "auc_a = auc(fpr_a, tpr_a)\n",
    "auc_b = auc(fpr_b, tpr_b)\n",
    "\n",
    "fig = plt.figure(figsize=(9, 9))\n",
    "plt.title('ROC')\n",
    "plt.plot(fpr_a, tpr_a, color='blue', alpha=0.5, label=f'A | AUC={auc_a:.3f}')\n",
    "plt.plot(fpr_b, tpr_b, color='red', alpha=0.5, label=f'B | AUC={auc_b:.3f}')\n",
    "plt.xlabel('FPR')\n",
    "plt.ylabel('TPR')\n",
    "plt.legend()\n",
    "plt.show()"
   ]
  },
  {
   "cell_type": "markdown",
   "metadata": {},
   "source": [
    "<h3 style=\"color:rgb(0,120,170)\"> Question 4.4 </h3>\n",
    "\n",
    "We consider again the objective of Logistic Regression, but now in a more abstract form, i.e. we set $net_i=\\mathbf{w}^T\\mathbf{x}_i$ and further $a_i=\\sigma(net_i)$. Then the ojective can be  written as:\n",
    "\\begin{align*}\n",
    "\\min_{\\mathbf{w}} \\quad L &= - \\sum_i y_i \\log \\sigma(net_i) + (1-y_i) \\log (1-\\sigma(net_i))\\\\\n",
    "&= - \\sum_i y_i \\log a_i + (1-y_i) \\log (1-a_i)\\\\\n",
    "\\text{with} \\quad \\sigma(x) &= \\frac{1}{1+\\mathrm{e}^{-x}} \n",
    "\\end{align*}\n",
    "\n",
    "Now, try to find $\\frac{\\partial L}{\\partial a_i}$ and $\\frac{\\partial L}{\\partial net_i}$. Simplify the terms as much as you can (especially $\\frac{\\partial L}{\\partial net_i}$) and  express it only in terms of $y_i$, $a_i$ and basic arithmetic operations $(+,-,*,/)$. Which values are possible for $\\frac{\\partial L}{\\partial net_i}$? Discuss what the sign and the interval of possible values of $\\frac{\\partial L}{\\partial net_i}$ is for true positives, true negatives, false postives, and false negatives, where classification is done with the criterion $a_i \\geq 0.5$. \n",
    "\n",
    "Consider the hint of Question 4.1.\n",
    "\n",
    "* <span style=\"color:rgb(0,120,170)\">**TODO:** Markdown, Latex</span>"
   ]
  },
  {
   "cell_type": "markdown",
   "metadata": {},
   "source": [
    "<h3 style=\"color:rgb(208,90,80)\">Answer 4.4:</h3>\n",
    "\n",
    "\\begin{align*}\n",
    "\\frac{\\partial L}{\\partial net_i} &= -\\sum_i y_i \\log \\sigma(net_i) + (1 - y_i)\\log(1 - \\sigma(net_i)) \\\\\n",
    "&= -\\sum_i \\frac{y_i \\sigma(net_i) (1 - \\sigma(net_i))}{\\sigma(net_i)} - \\frac{(1 - y_i)\\sigma(net_i)(1 - \\sigma(net_i))}{1 - \\sigma(net_i)} \\\\\n",
    "&= -\\sum_i y_i(1 - \\sigma(net_i)) - (1 - y_i)\\sigma(net_i) \\\\\n",
    "&= -\\sum_i y_i - y_i\\sigma(net_i) - \\sigma(net_i) + y_i\\sigma(net_i) \\\\\n",
    "&= -\\sum_i y_i - \\sigma(net_i) \\\\\n",
    "&= \\sum_i \\sigma(net_i) - y_i\n",
    "\\end{align*}\n",
    "\n",
    "---\n",
    "\n",
    "\\begin{align*}\n",
    "\\frac{\\partial L}{\\partial a_i} &= -\\sum_i y_i \\log a_i + (1 - y_i)\\log(1 - a_i) \\\\\n",
    "&= -\\sum_i \\frac{y_i}{a_i} - \\frac{1 - y_i}{1 - a_i} \\\\\n",
    "&= -\\sum_i \\frac{y_i - y_i a_i}{a_i(1 - a_i)} - \\frac{a_i - y_i a_i}{a_i(1 - a_i)} \\\\\n",
    "&= -\\sum_i \\frac{y_i - y_i a_i - a_i + y_i a_i}{a_i(1 - a_i)} \\\\\n",
    "&= -\\sum_i \\frac{y_i - a_i}{a_i(1 - a_i)} \\\\\n",
    "&= \\sum_i \\frac{a_i - y_i}{a_i(1 - a_i)}\n",
    "\\end{align*}\n",
    "\n",
    "---\n",
    "\n",
    "With respect to \n",
    "\\begin{align*}\n",
    "-\\sum_i \\frac{y_i - a_i}{a_i(1 - a_i)}\n",
    "\\end{align*}\n",
    "\n",
    "<table>\n",
    "  <tr>\n",
    "      <th/>\n",
    "      <th> True Positive </th>\n",
    "      <th> False Negative </th>\n",
    "      <th> True Negative </th>\n",
    "      <th> False Positive </th>\n",
    "  </tr>\n",
    "  <tr>\n",
    "    <td> $y_i$ </td>\n",
    "    <td> 1 </td>\n",
    "    <td> 1 </td>\n",
    "    <td> 0 </td>\n",
    "    <td> 0 </td>\n",
    "  </tr>\n",
    "  <tr>\n",
    "    <td> $actual$ </td>\n",
    "    <td> 1 </td>\n",
    "    <td> 0 </td>\n",
    "    <td> 0 </td>\n",
    "    <td> 1 </td>\n",
    "  </tr>\n",
    "  <tr>\n",
    "    <td> $y_i$ $-actual$ </td>\n",
    "    <td> 0 </td>\n",
    "    <td> 1 </td>\n",
    "    <td> 0 </td>\n",
    "    <td> -1 </td>\n",
    "  </tr>\n",
    "  <tr>\n",
    "    <td> $a_i$ </td>\n",
    "    <td> $(0.5, 1)$ </td>\n",
    "    <td> $(0, 0.5)$ </td>\n",
    "    <td> $(0, 0.5)$ </td>\n",
    "    <td> $(0.5, 1)$ </td>\n",
    "  </tr>\n",
    "  <tr>\n",
    "    <td> $y_i - a_i$ </td>\n",
    "    <td> $(0, 0.5)$ </td>\n",
    "    <td> $(0.5, 1)$ </td>\n",
    "    <td> $(-0.5, 0)$ </td>\n",
    "    <td> $(-1, -0.5)$ </td>\n",
    "  </tr>\n",
    "  <tr>\n",
    "    <td> Sign (see $y_i - a_i$) </td>\n",
    "    <td> + </td>\n",
    "    <td> + </td>\n",
    "    <td> - </td>\n",
    "    <td> - </td>\n",
    "  </tr>\n",
    "</table>"
   ]
  }
 ],
 "metadata": {
  "kernelspec": {
   "display_name": "Python 3",
   "language": "python",
   "name": "python3"
  },
  "language_info": {
   "codemirror_mode": {
    "name": "ipython",
    "version": 3
   },
   "file_extension": ".py",
   "mimetype": "text/x-python",
   "name": "python",
   "nbconvert_exporter": "python",
   "pygments_lexer": "ipython3",
   "version": "3.8.6"
  },
  "latex_envs": {
   "LaTeX_envs_menu_present": true,
   "autoclose": false,
   "autocomplete": true,
   "bibliofile": "biblio.bib",
   "cite_by": "apalike",
   "current_citInitial": 1,
   "eqLabelWithNumbers": true,
   "eqNumInitial": 1,
   "hotkeys": {
    "equation": "Ctrl-E",
    "itemize": "Ctrl-I"
   },
   "labels_anchors": false,
   "latex_user_defs": false,
   "report_style_numbering": false,
   "user_envs_cfg": false
  }
 },
 "nbformat": 4,
 "nbformat_minor": 2
}
