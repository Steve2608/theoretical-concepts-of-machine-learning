{
 "cells": [
  {
   "cell_type": "markdown",
   "metadata": {},
   "source": [
    "<h1 style=\"color:rgb(0,120,170)\">Assignment 3: Expectation Maximization</h1>\n",
    "<h2 style=\"color:rgb(0,120,170)\">Machine Learning: Theoretical Concepts, SS 2019</h2>\n",
    "\n",
    "<h3 style=\"color:rgb(0,120,170)\">Deadline April 09th 2019, 24:00</h3>\n",
    "Return this notebook with your code and answers."
   ]
  },
  {
   "cell_type": "markdown",
   "metadata": {},
   "source": [
    "# Exercise 3\n",
    "\n",
    "<h3 style=\"color:rgb(0,120,170)\"> Question 3.1 </h3>\n",
    "\n",
    "This question is meant to give you some more theoretical insights into the EM algorithm.\n",
    "As you have seen in the lecture, when doing EM you improve the log likelihood of the data $\\sum_i^N \\mathsf{log} p(\\mathbf{x}^i\\mid \\mathbf{\\Theta})$ by introducing a distribution $Q(\\mathbf{u})$ on hidden variables $\\mathbf{u}$. Then, instead of maximizing the log likelihood directly, you maximize a lower bound which is obtained through Jensen's inequality. We have:\n",
    "\\begin{align}\n",
    "\\sum_i^N \\mathsf{log} p(\\mathbf{x}^i) \\geq \\sum_i^N \\int Q(\\mathbf{u}) \\mathsf{log} \\frac{p(\\mathbf{x}^i, \\mathbf{u})}{Q(\\mathbf{u})}d\\mathbf{u} \\ .\n",
    "\\end{align}\n",
    "Show that after each E-step in the EM algorithm, this lower bound is reached with equality (\"the bound is tight\")."
   ]
  },
  {
   "cell_type": "markdown",
   "metadata": {},
   "source": [
    "* <span style=\"color:rgb(0,120,170)\">**TODO:** Markdown, Latex</span>\n",
    "\n",
    "\n",
    "## Assumptions \n",
    "According to lecture slides: \n",
    "\\begin{align*}\n",
    "\\ln \\mathcal{L}(\\{x \\}; \\mathcal{w}) \\ge \\mathcal{F}(\\mathcal{Q}, \\mathcal{w})\n",
    "\\end{align*}\n",
    "\n",
    "And we want to show (tightness of bound): \n",
    "\\begin{align*}\n",
    "\\ln \\mathcal{L}(\\{x \\}; \\mathcal{w}) = \\mathcal{F}(\\mathcal{Q}, \\mathcal{w})\n",
    "\\end{align*}\n",
    "holds after $k$ steps: \n",
    "\n",
    "\\begin{align*}\n",
    "\\ln \\mathcal{L}(\\{x \\}; \\mathcal{w_k}) &= \\mathcal{F}(\\mathcal{Q_{k+1}}, \\mathcal{w_k}) \\\\\n",
    "\\ln \\mathcal{L}(\\{x \\}; \\mathcal{w_k}) &= \\mathcal{F}(\\mathcal{Q_{k+1}}(\\mathcal{u} ~|~ \\{ x \\}); \\mathcal{w_k}) \\\\\n",
    "\\\\\n",
    "\\mathcal{Q_{k+1}}(\\mathcal{u} ~|~ \\{ \\mathcal{x} \\}) &= \\mathcal{p}(\\mathcal{u} ~|~ \\{ \\mathcal{x} \\}; \\mathcal{w}_k)\n",
    "\\end{align*}"
   ]
  },
  {
   "cell_type": "markdown",
   "metadata": {},
   "source": [
    "## Calculation \n",
    "\n",
    "\\begin{align*}\n",
    "\\ln \\mathcal{L}(\\{x \\}; \\mathcal{w_k}) &= \\mathcal{F}(\\mathcal{Q_k}(\\mathcal{u} ~|~ \\{ \\mathcal{x} \\}); \\mathcal{w_k}) \\\\\n",
    "&= \\int_U \\mathcal{Q_k}(\\mathcal{u} ~|~ \\{ \\mathcal{x} \\}) \\ln \\frac{\\mathcal{p} (\\{ \\mathcal{x} \\}, \\mathcal{u}; \\mathcal{w_k})}{\\mathcal{Q}(\\mathcal{u} ~|~ \\{ \\mathcal{x} \\})} \\delta \\mathcal{u} \\\\\n",
    "&= \\int_U \\mathcal{Q_k}(\\mathcal{u} ~|~ \\{ \\mathcal{x} \\}) \\ln \\frac{\\mathcal{p} (\\{ \\mathcal{x} \\}, \\mathcal{u}; \\mathcal{w_k})}{\\mathcal{Q}(\\mathcal{u} ~|~ \\{ \\mathcal{x} \\})} \\delta \\mathcal{u}  + \\ln \\mathcal{p}(\\{ \\mathcal{x} \\}; \\mathcal{w_k}) \\\\\n",
    "&= \\int_U \\mathcal{Q_k}(\\mathcal{u} ~|~ \\{ \\mathcal{x} \\}) \\ln \\frac{\\mathcal{p} (\\{ \\mathcal{x} \\}, \\mathcal{u}; \\mathcal{w_k})}{\\mathcal{Q}(\\mathcal{u} ~|~ \\{ \\mathcal{x} \\})} \\delta \\mathcal{u}  + \\ln \\mathcal{L}(\\{ \\mathcal{x} \\}; \\mathcal{w_k}) \\\\\n",
    "&= - \\int_U \\mathcal{Q_k}(\\mathcal{u} ~|~ \\{ \\mathcal{x} \\}) \\ln \\frac{\\mathcal{Q}(\\mathcal{u} ~|~ \\{ \\mathcal{x} \\})}{\\mathcal{p} (\\{ \\mathcal{x} \\}, \\mathcal{u}; \\mathcal{w_k})} \\delta \\mathcal{u}  + \\ln \\mathcal{L}(\\{ \\mathcal{x} \\}; \\mathcal{w_k}) \\\\\n",
    "&= \\ln \\mathcal{L}(\\{ \\mathcal{x} \\}; \\mathcal{w_k}) - \\underbrace{\\mathcal{D}_{KL}(\\mathcal{Q} || \\mathcal{p})}_\\text{$\\ge 0$; $=0$ for $\\mathcal{Q}(\\mathcal{u} ~|~ \\{\\mathcal{x}\\}) = \\mathcal{p}( \\mathcal{u} ~|~ \\{ \\mathcal{x} \\}; \\mathcal{w_k})$}\n",
    "\\end{align*}"
   ]
  },
  {
   "cell_type": "markdown",
   "metadata": {},
   "source": [
    "We see that this equality holds if and only if $\\mathcal{D}_{KL}(\\mathcal{Q} || \\mathcal{p}) = 0$:\n",
    "\n",
    "\\begin{align*}\n",
    "\\mathcal{F}(\\mathcal{Q_{k+1}}(\\mathcal{u} ~|~ \\{ x \\}); \\mathcal{w_k}) &= \\ln \\mathcal{L}(\\{x \\}; \\mathcal{w_k}) \\\\\n",
    "&= \\ln \\mathcal{L}(\\{ \\mathcal{x} \\}; \\mathcal{w_k}) - \\mathcal{D}_{KL}(\\mathcal{Q} || \\mathcal{p}) \\\\\n",
    "&= \\ln \\mathcal{L}(\\{ \\mathcal{x} \\}; \\mathcal{w_k}) - \\int_U \\mathcal{Q}_{k+1}(\\mathcal{u} ~|~ \\{ \\mathcal{x} \\}) \\ln \\frac{\\mathcal{Q}_{k+1}(\\mathcal{u} ~|~ \\{ \\mathcal{x} \\})}{\\mathcal{p} (\\{ \\mathcal{x} \\}, \\mathcal{u}; \\mathcal{w_k})} \\delta \\mathcal{u} \\\\\n",
    "&= \\ln \\mathcal{L}(\\{ \\mathcal{x} \\}; \\mathcal{w_k}) - \\int_U \\mathcal{Q}_{k+1}(\\mathcal{u} ~|~ \\{ \\mathcal{x} \\}) \\ln \\frac{\\mathcal{p} (\\{ \\mathcal{x} \\}, \\mathcal{u}; \\mathcal{w_k})}{\\mathcal{p} (\\{ \\mathcal{x} \\}, \\mathcal{u}; \\mathcal{w_k})} \\delta \\mathcal{u} \\\\\n",
    "&= \\ln \\mathcal{L}(\\{ \\mathcal{x} \\}; \\mathcal{w_k}) - \\int_U \\mathcal{Q}_{k+1}(\\mathcal{u} ~|~ \\{ \\mathcal{x} \\}) \\ln 1 \\delta \\mathcal{u} \\\\\n",
    "&= \\ln \\mathcal{L}(\\{ \\mathcal{x} \\}; \\mathcal{w_k}) - \\int_U \\mathcal{Q}_{k+1}(\\mathcal{u} ~|~ \\{ \\mathcal{x} \\}) 0 \\delta \\mathcal{u} \\\\\n",
    "&= \\ln \\mathcal{L}(\\{ \\mathcal{x} \\}; \\mathcal{w_k}) - 0 \\\\\n",
    "&= \\ln \\mathcal{L}(\\{ \\mathcal{x} \\}; \\mathcal{w_k})\n",
    "\\end{align*}"
   ]
  },
  {
   "cell_type": "markdown",
   "metadata": {},
   "source": [
    "<h3 style=\"color:rgb(0,120,170)\"> Question 3.2 </h3>\n",
    "\n",
    "Derive update formulas for the Mixture of Poissons problem shown in class. This means: update formulas for the $r_{ik}$, $\\alpha_k$ and $\\theta_k$ (the rate parameter) to be used in the E- and M-steps.\n",
    "Note that most of the formulas derived in class for the Mixture of Gaussians problem can be reused, as they are not specific to the Gaussian distribution, but for a Mixture Model in general."
   ]
  },
  {
   "cell_type": "markdown",
   "metadata": {},
   "source": [
    "* <span style=\"color:rgb(0,120,170)\">**TODO:** Markdown / Latex</span>\n",
    "\n",
    "First we update the formula for $\\theta_k$:\n",
    "\\begin{align*}\n",
    "\\frac{\\partial \\ln \\mathcal{L}}{\\partial \\theta_k} &= \\sum_i^n \\frac{\\alpha_k}{\\sum_l^K \\alpha_l \\mathcal{p}(x_i; \\theta_l)} \\frac{\\partial p(x_i; \\theta_k)}{\\partial \\theta_k}\\\\\n",
    "&= \\sum_i^n p(u_i ~=~ k|x_i) \\frac{\\partial \\ln p(x_i; \\theta_k)}{\\partial \\theta_k}\n",
    "\\end{align*}\n",
    "\n",
    "We also know that for the Poisson distribution there is just one parameter to optimize:\n",
    "\n",
    "\\begin{align*}\n",
    "\\frac{\\partial}{\\partial \\lambda_k} \\ln p(x_i; \\lambda_k) &= \\frac{\\partial}{\\partial \\lambda_k} \\ln \\frac{\\lambda_k^{x_i}}{x_i!} \\mathcal{e}^{-\\lambda_k} \\\\\n",
    "&= \\frac{\\partial}{\\partial \\lambda_k} \\ln(\\frac{\\lambda_k^{x_i}}{x_i!}) - \\lambda_k \\\\\n",
    "&= \\frac{\\partial}{\\partial \\lambda_k} \\ln(\\lambda_k^{x_i}) - \\ln(x_i!) - \\lambda_k \\\\\n",
    "&= \\frac{\\partial}{\\partial \\lambda_k} x_i\\ln(\\lambda_k) - \\ln(x_i!) - \\lambda_k \\\\\n",
    "&= \\frac{x_i}{\\lambda_k} - 1\n",
    "\\end{align*}\n",
    "\n",
    "Setting it to zero gives us:\n",
    "\\begin{align*}\n",
    "\\frac{x_i}{\\lambda_k} - 1 &= 0 \\\\\n",
    "\\frac{x_i}{\\lambda_k} &= 1 \\\\\n",
    "\\lambda_k &= x_i\n",
    "\\end{align*}"
   ]
  },
  {
   "cell_type": "markdown",
   "metadata": {},
   "source": [
    "Going back to the original formula, we now have: \n",
    "\\begin{align*}\n",
    "\\sum_i^n p(u_i ~=~ k|x_i) \\frac{\\partial \\ln p(x_i; \\theta_k)}{\\partial \\theta_k} &= \\sum_i^n p(u_i ~=~ k|x_i) (\\frac{x_i}{\\lambda_k} - 1)\n",
    "\\end{align*}\n",
    "\n",
    "We also set this to 0: \n",
    "\n",
    "\\begin{align*}\n",
    "\\sum_i^n p(u_i ~=~ k|x_i) (\\frac{x_i}{\\lambda_k} - 1) &= 0 \\\\\n",
    "\\sum_i^n r_{ik} (\\frac{x_i}{\\lambda_k} - 1) &= 0 \\\\\n",
    "\\sum_i^n r_{ik} \\frac{x_i}{\\lambda_k} - \\sum_i^n r_{ik} &= 0 \\\\\n",
    "\\sum_i^n r_{ik} x_i - \\sum_i^n r_{ik}\\lambda_k  &= 0 \\\\\n",
    "\\sum_i^n r_{ik} x_i &= \\sum_i^n r_{ik}\\lambda_k \\\\\n",
    "\\lambda_k &= \\frac{\\sum_i^n r_{ik} x_i}{\\sum_i^n r_{ik}} \n",
    "\\end{align*}"
   ]
  },
  {
   "cell_type": "markdown",
   "metadata": {},
   "source": [
    "Lagrangian of the log-likelihood and the sum-to-one constraint (according to exercise slides):\n",
    "\n",
    "\\begin{align*}\n",
    "\\Lambda(\\Theta, \\lambda) = \\sum_i^n \\ln\\big(\\sum_l^K \\alpha_l p(x_i; \\theta_l) \\big) + \\lambda \\big( \\sum_l^K a_l - 1 \\big) \n",
    "\\end{align*}\n",
    "\n",
    "\\begin{align*}\n",
    "\\frac{\\partial \\Lambda(\\Theta, \\lambda)}{\\partial \\alpha_k} = \\sum_i^n \\frac{p(x_i; \\theta_k)}{\\sum_l^m \\alpha_l p(x_i; \\theta_l)} + \\lambda &= 0 \\\\\n",
    "\\sum_i^n p(u_i ~=~ k|x_i) + \\alpha_k \\lambda &= 0 \\\\\n",
    "\\sum_i^n \\underbrace{\\sum_k^K p(u_i ~=~ k|x_i)}_\\text{sums up to 1} + \\lambda \\underbrace{\\sum_k^K \\alpha_k}_\\text{sums up to 1} &= 0 \\\\\n",
    "\\sum_i^n 1 &= - \\lambda \\\\\n",
    "\\lambda &= -n \\implies \\alpha_k = \\frac{1}{n} \\sum_i^n p(u_i = k | x_i)\n",
    "\\end{align*}"
   ]
  },
  {
   "cell_type": "markdown",
   "metadata": {},
   "source": [
    "For $r_{ik}$:\n",
    "\n",
    "\\begin{align*}\n",
    "r_{ik} &= p(u_i k | x_i) \\\\\n",
    "&= \\frac{p(u_i = k) p(x_i | u_i = k)}{p(x_i)} \\\\\n",
    "&= \\frac{\\alpha_k p(x_i; \\theta_k)}{\\sum_l^K \\alpha_l p(x_i; \\theta_l)} \\\\\n",
    "&= \\frac{\\alpha_k \\frac{\\lambda_k^{x_i}}{x_i!} \\mathcal{e}^{-\\lambda_k}}{\\sum_l^K \\alpha_l \\frac{\\lambda_k^{x_i}}{x_i!} \\mathcal{e}^{-\\lambda_k}}\n",
    "\\end{align*}"
   ]
  },
  {
   "cell_type": "markdown",
   "metadata": {},
   "source": [
    "<h3 style=\"color:rgb(0,120,170)\"> Question 3.3 </h3>\n",
    "\n",
    "\n",
    "Write a program that estimates all the parameters of a Mixture of Poissons via an EM algorithm. Use the derivations from exercise 3.2. Choose (and document!) your own convergence criterion. Then, let your algorithm run on the data from $\\mathsf{cnvdata.csv}$.\n",
    "Try different values for $K$, the number of components.\n",
    "For each $K$, run different experiments with different random initializations.\n",
    "\n",
    "How many different copy numbers (i.e. components or clusters) do you think are in the data? What do you observe, and how do different values of $K$ change the results of your algorithm?"
   ]
  },
  {
   "cell_type": "markdown",
   "metadata": {},
   "source": [
    "* <span style=\"color:rgb(0,120,170)\">**TODO:** Markdown / Latex</span>\n",
    "\n",
    "Initially I thought that there are **clearly** 3 underlying poisson distributions (~50, ~90, ~185). Upon further inspection there might be 2 different distributions around X=90."
   ]
  },
  {
   "cell_type": "code",
   "execution_count": 1,
   "metadata": {
    "ExecuteTime": {
     "end_time": "2019-04-09T14:16:17.990634Z",
     "start_time": "2019-04-09T14:16:17.647461Z"
    },
    "scrolled": false
   },
   "outputs": [
    {
     "data": {
      "image/png": "[encoded data removed]",
      "text/plain": [
       "<Figure size 1152x648 with 1 Axes>"
      ]
     },
     "metadata": {
      "needs_background": "light"
     },
     "output_type": "display_data"
    }
   ],
   "source": [
    "from scipy import stats\n",
    "import numpy as np\n",
    "import matplotlib.pyplot as plt\n",
    "\n",
    "data = np.loadtxt(open(\"cnvdata.csv\", \"rb\"), delimiter=\",\", skiprows=1)\n",
    "\n",
    "plt.figure(figsize=(16, 9))\n",
    "plt.hist(data, bins=50)\n",
    "plt.title('Data distribution')\n",
    "plt.ylabel('$p(X)$')\n",
    "plt.xlabel('$X$')\n",
    "plt.show()"
   ]
  },
  {
   "cell_type": "markdown",
   "metadata": {},
   "source": [
    "### Implementation\n",
    "\n",
    "* <span style=\"color:rgb(0,120,170)\">**TODO:** Implement your EM algorithm using the updates rules derived in the previous exercise.</span>"
   ]
  },
  {
   "cell_type": "code",
   "execution_count": 2,
   "metadata": {
    "ExecuteTime": {
     "end_time": "2019-04-09T14:11:26.117535Z",
     "start_time": "2019-04-09T14:11:26.102572Z"
    }
   },
   "outputs": [],
   "source": [
    "class EM:\n",
    "    def __init__(self, X, K, max_iter, verbose=False):\n",
    "        self.X = X\n",
    "        self.K = K\n",
    "        self.max_iter = max_iter\n",
    "        self.verbose = verbose\n",
    "\n",
    "    def poisson(self, l, x_i):\n",
    "        return stats.poisson(l).pmf(x_i)\n",
    "\n",
    "    def alpha_optimize(self, R_ik, k) -> np.real:\n",
    "        \"\"\"Optimizing for one alpha in k-th column\"\"\"\n",
    "        return R_ik[:, k].sum() / len(R_ik)\n",
    "\n",
    "    def alphas(self, R_ik) -> [np.real]:\n",
    "        \"\"\"Optimizing over all alphas\"\"\"\n",
    "        return np.asarray([self.alpha_optimize(R_ik, k) for k in range(R_ik.shape[1])])\n",
    "\n",
    "    def lambda_optimize(self, R_ik, X, k) -> np.real:\n",
    "        \"\"\"Optimizing for one lambda_k:\n",
    "        lambda_k = sum(R_ik * x_i) / sum(R_ik)\"\"\"\n",
    "        return (R_ik[:, k] * X).sum() / R_ik[:, k].sum()\n",
    "\n",
    "    def lambdas(self, R_ik, X) -> [np.real]:\n",
    "        \"\"\"Optimizing over all lambdas\"\"\"\n",
    "        return np.asarray([self.lambda_optimize(R_ik, X, k) for k in range(R_ik.shape[1])])\n",
    "\n",
    "    def r_ik_optimize(self, X, i, K, k, L, A) -> [np.real, np.real]:\n",
    "        \"\"\"Optimizing for one r_ik\"\"\"\n",
    "        return A[k] * self.poisson(L[k], X[i]) / np.asarray(\n",
    "            [A[l] * self.poisson(lam, X[i]) for l, lam in zip(range(K), L)]).sum()\n",
    "\n",
    "    def M_step(self, R_ik, X):\n",
    "        return self.alphas(R_ik), self.lambdas(R_ik, X)\n",
    "\n",
    "    def E_step_initial(self):\n",
    "        return np.random.rand(self.X.shape[0], self.K)\n",
    "\n",
    "    def E_step(self, X, K, L, A):\n",
    "        R_ik = np.zeros((X.shape[0], K))\n",
    "        # Iterating over all x_i\n",
    "        for i in range(X.shape[0]):\n",
    "            # iterating over all ks\n",
    "            for k in range(K):\n",
    "                R_ik[i, k] = self.r_ik_optimize(X, i, K, k, L, A)\n",
    "        return R_ik\n",
    "\n",
    "    def does_converge(self, L_curr, L_prev) -> bool:\n",
    "        return np.allclose(L_curr, L_prev, rtol=1e-06, atol=1e-06)\n",
    "\n",
    "    def EM(self):\n",
    "        L_curr = np.zeros(self.K)\n",
    "        R_ik = self.E_step_initial()\n",
    "\n",
    "        for i in range(self.max_iter):\n",
    "            if self.verbose:\n",
    "                print(f'Iteration {i + 1}/{self.max_iter}')\n",
    "            L_prev = L_curr.copy()\n",
    "            A, L_curr = self.M_step(R_ik, self.X)\n",
    "            R_ik = self.E_step(self.X, self.K, L_curr, A)\n",
    "            if self.does_converge(L_curr, L_prev):\n",
    "                if self.verbose:\n",
    "                    print(f'EM reached convergence in step {i + 1}!')\n",
    "                return A, L_curr\n",
    "\n",
    "        return L_curr, A \n",
    "\n",
    "    def __str__(self):\n",
    "        result = self.EM()\n",
    "        result_as_list = [(l, a) for l, a in zip(result[0], result[1])]\n",
    "        result_sorted = np.asarray(sorted(result_as_list))\n",
    "        return f'Lambdas: {result_sorted[:, 0]}\\nAlphas: {result_sorted[:, 1]}'"
   ]
  },
  {
   "cell_type": "markdown",
   "metadata": {},
   "source": [
    "### Behaviour of the Algorithm"
   ]
  },
  {
   "cell_type": "code",
   "execution_count": 3,
   "metadata": {
    "ExecuteTime": {
     "end_time": "2019-04-09T14:11:35.422319Z",
     "start_time": "2019-04-09T14:11:26.118533Z"
    }
   },
   "outputs": [
    {
     "name": "stdout",
     "output_type": "stream",
     "text": [
      "Lambdas: [ 48.34256499  93.44427824 186.97168677]\n",
      "Alphas: [0.53414834 0.10217218 0.36367948]\n"
     ]
    }
   ],
   "source": [
    "print(EM(data, 3, 5))"
   ]
  },
  {
   "cell_type": "markdown",
   "metadata": {},
   "source": [
    "For $\\mathcal{K} = 3$ the algorithm picks up each of the \"bumps\" as was to be expected. "
   ]
  },
  {
   "cell_type": "code",
   "execution_count": 4,
   "metadata": {
    "ExecuteTime": {
     "end_time": "2019-04-09T14:12:03.336151Z",
     "start_time": "2019-04-09T14:11:35.423307Z"
    }
   },
   "outputs": [
    {
     "name": "stdout",
     "output_type": "stream",
     "text": [
      "Lambdas: [ 48.30901046  59.36037511  88.18334807 102.45873728 109.61549339\n",
      " 187.03072453]\n",
      "Alphas: [0.52767064 0.01714872 0.04088731 0.03888047 0.01220549 0.36320737]\n"
     ]
    }
   ],
   "source": [
    "print(EM(data, 6, 5))"
   ]
  },
  {
   "cell_type": "markdown",
   "metadata": {},
   "source": [
    "For $\\mathcal{K} = 6$ the algorithm picks up multiple distributions for each visible \"bump\". "
   ]
  },
  {
   "cell_type": "code",
   "execution_count": 5,
   "metadata": {
    "ExecuteTime": {
     "end_time": "2019-04-09T14:13:17.172977Z",
     "start_time": "2019-04-09T14:12:03.337361Z"
    }
   },
   "outputs": [
    {
     "name": "stdout",
     "output_type": "stream",
     "text": [
      "Lambdas: [ 47.86718482  49.02583478  54.06497217  88.84626416 100.38275511\n",
      " 107.52577761 174.88253683 183.67873675 186.20316881 190.37242509]\n",
      "Alphas: [0.34011717 0.16926133 0.03492068 0.04004609 0.03348921 0.01864175\n",
      " 0.02504023 0.0667347  0.09445967 0.17728917]\n"
     ]
    }
   ],
   "source": [
    "print(EM(data, 10, 5))"
   ]
  },
  {
   "cell_type": "markdown",
   "metadata": {},
   "source": [
    "For $\\mathcal{K} \\ge 10$ the algorithm tends to overfit every statistical anomality into its own distribution."
   ]
  },
  {
   "cell_type": "markdown",
   "metadata": {},
   "source": [
    "### Testing for 4 components\n",
    "\n",
    "* <span style=\"color:rgb(0,120,170)\">**TODO:** Test your implementation for 4 components</span>"
   ]
  },
  {
   "cell_type": "markdown",
   "metadata": {},
   "source": [
    "We see that the first and second distribution (~48.5 and ~187) are almost always picked up for $\\mathcal{K} =4$. The other two distributions fluctuate immensly between adding a second distribution near the first and last distribution and picking up on two distributions in between:"
   ]
  },
  {
   "cell_type": "code",
   "execution_count": 6,
   "metadata": {
    "ExecuteTime": {
     "end_time": "2019-04-09T14:13:27.920738Z",
     "start_time": "2019-04-09T14:13:17.174000Z"
    }
   },
   "outputs": [
    {
     "name": "stdout",
     "output_type": "stream",
     "text": [
      "Lambdas: [ 47.83534053  50.45338699  97.00948568 186.98132198]\n",
      "Alphas: [0.37477881 0.17030652 0.09128953 0.36362514]\n"
     ]
    }
   ],
   "source": [
    "print(EM(data, 4, 4))"
   ]
  },
  {
   "cell_type": "code",
   "execution_count": 7,
   "metadata": {
    "ExecuteTime": {
     "end_time": "2019-04-09T14:13:49.867375Z",
     "start_time": "2019-04-09T14:13:27.921738Z"
    }
   },
   "outputs": [
    {
     "name": "stdout",
     "output_type": "stream",
     "text": [
      "Lambdas: [ 48.61940969  91.16648483 106.59129791 187.00303894]\n",
      "Alphas: [0.54419492 0.0584109  0.03395274 0.36344144]\n"
     ]
    }
   ],
   "source": [
    "print(EM(data, 4, 8))"
   ]
  },
  {
   "cell_type": "code",
   "execution_count": 8,
   "metadata": {
    "ExecuteTime": {
     "end_time": "2019-04-09T14:14:22.277966Z",
     "start_time": "2019-04-09T14:13:49.868321Z"
    }
   },
   "outputs": [
    {
     "name": "stdout",
     "output_type": "stream",
     "text": [
      "Lambdas: [ 48.6069794   88.8900196  104.53356741 186.9945973 ]\n",
      "Alphas: [0.54384751 0.04643465 0.046205   0.36351284]\n"
     ]
    }
   ],
   "source": [
    "print(EM(data, 4, 12))"
   ]
  },
  {
   "cell_type": "code",
   "execution_count": 9,
   "metadata": {
    "ExecuteTime": {
     "end_time": "2019-04-09T14:15:06.580191Z",
     "start_time": "2019-04-09T14:14:22.278963Z"
    }
   },
   "outputs": [
    {
     "name": "stdout",
     "output_type": "stream",
     "text": [
      "Lambdas: [ 48.49218306  51.10126501  96.97258492 186.98114121]\n",
      "Alphas: [0.51237555 0.03258357 0.09141421 0.36362667]\n"
     ]
    }
   ],
   "source": [
    "print(EM(data, 4, 16))"
   ]
  },
  {
   "cell_type": "code",
   "execution_count": 10,
   "metadata": {
    "ExecuteTime": {
     "end_time": "2019-04-09T14:16:01.212882Z",
     "start_time": "2019-04-09T14:15:06.581185Z"
    }
   },
   "outputs": [
    {
     "name": "stdout",
     "output_type": "stream",
     "text": [
      "Lambdas: [ 48.61123158  89.68357381 105.26871846 186.9975237 ]\n",
      "Alphas: [0.54396808 0.05062697 0.04191686 0.36348809]\n"
     ]
    }
   ],
   "source": [
    "print(EM(data, 4, 20))"
   ]
  }
 ],
 "metadata": {
  "kernelspec": {
   "display_name": "Python 3",
   "language": "python",
   "name": "python3"
  },
  "language_info": {
   "codemirror_mode": {
    "name": "ipython",
    "version": 3
   },
   "file_extension": ".py",
   "mimetype": "text/x-python",
   "name": "python",
   "nbconvert_exporter": "python",
   "pygments_lexer": "ipython3",
   "version": "3.8.2"
  },
  "latex_envs": {
   "LaTeX_envs_menu_present": true,
   "autoclose": false,
   "autocomplete": true,
   "bibliofile": "biblio.bib",
   "cite_by": "apalike",
   "current_citInitial": 1,
   "eqLabelWithNumbers": true,
   "eqNumInitial": 1,
   "hotkeys": {
    "equation": "Ctrl-E",
    "itemize": "Ctrl-I"
   },
   "labels_anchors": false,
   "latex_user_defs": false,
   "report_style_numbering": false,
   "user_envs_cfg": false
  }
 },
 "nbformat": 4,
 "nbformat_minor": 2
}
